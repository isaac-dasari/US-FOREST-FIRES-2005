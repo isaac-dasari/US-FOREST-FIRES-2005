{
 "cells": [
  {
   "cell_type": "code",
   "execution_count": 1,
   "metadata": {},
   "outputs": [],
   "source": [
    "import pandas as pd"
   ]
  },
  {
   "cell_type": "code",
   "execution_count": 2,
   "metadata": {},
   "outputs": [],
   "source": [
    "dta_set=pd.read_csv(\"../data/WDICountry.csv\")"
   ]
  },
  {
   "cell_type": "code",
   "execution_count": 5,
   "metadata": {},
   "outputs": [
    {
     "data": {
      "text/html": [
       "<div>\n",
       "<style scoped>\n",
       "    .dataframe tbody tr th:only-of-type {\n",
       "        vertical-align: middle;\n",
       "    }\n",
       "\n",
       "    .dataframe tbody tr th {\n",
       "        vertical-align: top;\n",
       "    }\n",
       "\n",
       "    .dataframe thead th {\n",
       "        text-align: right;\n",
       "    }\n",
       "</style>\n",
       "<table border=\"1\" class=\"dataframe\">\n",
       "  <thead>\n",
       "    <tr style=\"text-align: right;\">\n",
       "      <th></th>\n",
       "      <th>Country Code</th>\n",
       "      <th>Short Name</th>\n",
       "      <th>Table Name</th>\n",
       "      <th>Long Name</th>\n",
       "      <th>2-alpha code</th>\n",
       "      <th>Currency Unit</th>\n",
       "      <th>Special Notes</th>\n",
       "      <th>Region</th>\n",
       "      <th>Income Group</th>\n",
       "      <th>WB-2 code</th>\n",
       "      <th>...</th>\n",
       "      <th>Government Accounting concept</th>\n",
       "      <th>IMF data dissemination standard</th>\n",
       "      <th>Latest population census</th>\n",
       "      <th>Latest household survey</th>\n",
       "      <th>Source of most recent Income and expenditure data</th>\n",
       "      <th>Vital registration complete</th>\n",
       "      <th>Latest agricultural census</th>\n",
       "      <th>Latest industrial data</th>\n",
       "      <th>Latest trade data</th>\n",
       "      <th>Latest water withdrawal data</th>\n",
       "    </tr>\n",
       "  </thead>\n",
       "  <tbody>\n",
       "    <tr>\n",
       "      <th>0</th>\n",
       "      <td>ABW</td>\n",
       "      <td>Aruba</td>\n",
       "      <td>Aruba</td>\n",
       "      <td>Aruba</td>\n",
       "      <td>AW</td>\n",
       "      <td>Aruban florin</td>\n",
       "      <td>SNA data for 2000-2011 are updated from offici...</td>\n",
       "      <td>Latin America &amp; Caribbean</td>\n",
       "      <td>High income</td>\n",
       "      <td>AW</td>\n",
       "      <td>...</td>\n",
       "      <td>NaN</td>\n",
       "      <td>Enhanced General Data Dissemination System (e-...</td>\n",
       "      <td>2010</td>\n",
       "      <td>NaN</td>\n",
       "      <td>NaN</td>\n",
       "      <td>Yes</td>\n",
       "      <td>NaN</td>\n",
       "      <td>NaN</td>\n",
       "      <td>2016.0</td>\n",
       "      <td>NaN</td>\n",
       "    </tr>\n",
       "  </tbody>\n",
       "</table>\n",
       "<p>1 rows × 31 columns</p>\n",
       "</div>"
      ],
      "text/plain": [
       "  Country Code Short Name Table Name Long Name 2-alpha code  Currency Unit  \\\n",
       "0          ABW      Aruba      Aruba     Aruba           AW  Aruban florin   \n",
       "\n",
       "                                       Special Notes  \\\n",
       "0  SNA data for 2000-2011 are updated from offici...   \n",
       "\n",
       "                      Region Income Group WB-2 code  ...  \\\n",
       "0  Latin America & Caribbean  High income        AW  ...   \n",
       "\n",
       "  Government Accounting concept  \\\n",
       "0                           NaN   \n",
       "\n",
       "                     IMF data dissemination standard Latest population census  \\\n",
       "0  Enhanced General Data Dissemination System (e-...                     2010   \n",
       "\n",
       "  Latest household survey Source of most recent Income and expenditure data  \\\n",
       "0                     NaN                                               NaN   \n",
       "\n",
       "  Vital registration complete Latest agricultural census  \\\n",
       "0                         Yes                        NaN   \n",
       "\n",
       "  Latest industrial data Latest trade data Latest water withdrawal data  \n",
       "0                    NaN            2016.0                          NaN  \n",
       "\n",
       "[1 rows x 31 columns]"
      ]
     },
     "execution_count": 5,
     "metadata": {},
     "output_type": "execute_result"
    }
   ],
   "source": [
    "dta_set.head(1)"
   ]
  },
  {
   "cell_type": "code",
   "execution_count": 1,
   "metadata": {},
   "outputs": [
    {
     "ename": "NameError",
     "evalue": "name 'dta_set' is not defined",
     "output_type": "error",
     "traceback": [
      "\u001b[0;31m---------------------------------------------------------------------------\u001b[0m",
      "\u001b[0;31mNameError\u001b[0m                                 Traceback (most recent call last)",
      "\u001b[0;32m<ipython-input-1-a23a5ea4e95a>\u001b[0m in \u001b[0;36m<module>\u001b[0;34m\u001b[0m\n\u001b[0;32m----> 1\u001b[0;31m \u001b[0mdta_set\u001b[0m\u001b[0;34m.\u001b[0m\u001b[0mdtypes\u001b[0m\u001b[0;34m\u001b[0m\u001b[0;34m\u001b[0m\u001b[0m\n\u001b[0m",
      "\u001b[0;31mNameError\u001b[0m: name 'dta_set' is not defined"
     ]
    }
   ],
   "source": [
    "dta_set.dtypes"
   ]
  },
  {
   "cell_type": "code",
   "execution_count": 2,
   "metadata": {},
   "outputs": [],
   "source": [
    "# Load pandas and sqlalchemy's create_engine\n",
    "import pandas as pd\n",
    "from sqlalchemy import create_engine"
   ]
  },
  {
   "cell_type": "code",
   "execution_count": null,
   "metadata": {},
   "outputs": [],
   "source": [
    "# Create database engine to manage connections\n",
    "engine = create_engine(\"sqlite:///data.db\")"
   ]
  }
 ],
 "metadata": {
  "kernelspec": {
   "display_name": "Python 3",
   "language": "python",
   "name": "python3"
  },
  "language_info": {
   "codemirror_mode": {
    "name": "ipython",
    "version": 3
   },
   "file_extension": ".py",
   "mimetype": "text/x-python",
   "name": "python",
   "nbconvert_exporter": "python",
   "pygments_lexer": "ipython3",
   "version": "3.8.3"
  }
 },
 "nbformat": 4,
 "nbformat_minor": 2
}
